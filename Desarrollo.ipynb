{
 "cells": [
  {
   "attachments": {},
   "cell_type": "markdown",
   "metadata": {},
   "source": [
    "Caso Advanced Analytics: \n",
    "Predicción de Fugas de Clientes para una Institución Financiera\n",
    "======\n",
    "\n",
    "Autor: Rolf Traeger Brautigam\n",
    "========="
   ]
  },
  {
   "cell_type": "markdown",
   "metadata": {},
   "source": [
    "# Inicio\n",
    "## Import librarys"
   ]
  },
  {
   "cell_type": "code",
   "execution_count": 1,
   "metadata": {},
   "outputs": [],
   "source": [
    "# ! conda install plotnine\n",
    "# ! conda install pandas\n",
    "# ! conda install scikit-learn\n",
    "# ! conda install -c anaconda git\n"
   ]
  },
  {
   "cell_type": "code",
   "execution_count": 2,
   "metadata": {},
   "outputs": [],
   "source": [
    "import pandas as pd\n",
    "import numpy as np\n",
    "import matplotlib.pyplot as plt"
   ]
  },
  {
   "cell_type": "code",
   "execution_count": 3,
   "metadata": {},
   "outputs": [],
   "source": [
    "from plotnine import (\n",
    "ggplot,\n",
    "geom_histogram,\n",
    "aes,\n",
    "geom_col,\n",
    "theme,\n",
    "element_text,\n",
    "ggtitle,\n",
    "scale_x_discrete,\n",
    "facet_grid,\n",
    "position_dodge,\n",
    ")"
   ]
  },
  {
   "cell_type": "markdown",
   "metadata": {},
   "source": [
    "## Funciones utiles"
   ]
  },
  {
   "cell_type": "code",
   "execution_count": 4,
   "metadata": {},
   "outputs": [],
   "source": [
    "import exploratory_lib as exp_lib"
   ]
  },
  {
   "cell_type": "code",
   "execution_count": 5,
   "metadata": {},
   "outputs": [],
   "source": [
    "dic_med=exp_lib.class_diccionarios()\n",
    "dic_med.set_list_num(list(range(1,13)))\n",
    "dic_med.set_list_name(exp_lib.array_mes_name)\n",
    "dic_med.set_dictionary()"
   ]
  },
  {
   "cell_type": "code",
   "execution_count": 6,
   "metadata": {},
   "outputs": [
    {
     "data": {
      "text/plain": [
       "'Enero'"
      ]
     },
     "execution_count": 6,
     "metadata": {},
     "output_type": "execute_result"
    }
   ],
   "source": [
    "dic_med.int_to_name(1)"
   ]
  },
  {
   "cell_type": "code",
   "execution_count": 7,
   "metadata": {},
   "outputs": [
    {
     "data": {
      "text/plain": [
       "1"
      ]
     },
     "execution_count": 7,
     "metadata": {},
     "output_type": "execute_result"
    }
   ],
   "source": [
    "dic_dianom=exp_lib.class_diccionarios()\n",
    "dic_dianom.set_list_num(list(range(1,8)))\n",
    "dic_dianom.set_list_name(['Lunes', 'Martes', 'Miercoles','Jueves','Viernes', 'Sabado', 'Domingo'])\n",
    "dic_dianom.set_dictionary()\n",
    "dic_dianom.name_to_num(\"LuneS\")"
   ]
  },
  {
   "cell_type": "markdown",
   "metadata": {},
   "source": [
    "## Extract CSV y transform using owns librarys"
   ]
  },
  {
   "cell_type": "code",
   "execution_count": 8,
   "metadata": {},
   "outputs": [],
   "source": [
    "list_name_file_1 = [\n",
    "    'aportes_rescates_12m',      #.csv\n",
    "    'cuenta_banco',      #.csv\n",
    "    'demograficos',      #.csv\n",
    "    'deudas',        #.csv\n",
    "    'id_label',      #.csv\n",
    "    ]\n",
    "list_name_file_cierre_patrimonio=[\n",
    "'cierre_patrimonio_202202',        #.csv\n",
    "'cierre_patrimonio_202203',        #.csv\n",
    "'cierre_patrimonio_202204',        #.csv\n",
    "'cierre_patrimonio_202205',        #.csv\n",
    "'cierre_patrimonio_202206',        #.csv\n",
    "'cierre_patrimonio_202207',        #.csv\n",
    "'cierre_patrimonio_202208',        #.csv\n",
    "'cierre_patrimonio_202209',        #.csv\n",
    "'cierre_patrimonio_202210',        #.csv\n",
    "'cierre_patrimonio_202211',        #.csv\n",
    "'cierre_patrimonio_202212',        #.csv\n",
    "'cierre_patrimonio_202301',        #.csv\n",
    "'cierre_patrimonio_202302',        #.csv\n",
    "]"
   ]
  },
  {
   "cell_type": "code",
   "execution_count": 9,
   "metadata": {},
   "outputs": [],
   "source": [
    "aportes_rescates_12m = pd.read_csv(\"bases/aportes_rescates_12m.csv\",\n",
    "                        encoding=\"utf-8\",sep=\",\",nrows=0, \n",
    "                        index_col=0)\n",
    "# exp_lib.extract_csv(\"bases\",\"aportes_rescates_12m\",',')\n",
    "cuenta_banco = pd.read_csv(\"bases/cuenta_banco.csv\",\n",
    "                        encoding=\"utf-8\",sep=\",\",nrows=0\n",
    "                        ,index_col=None)\n",
    "# exp_lib.extract_csv(\"bases\",\"cuenta_banco\",',')\n",
    "demograficos =  pd.read_csv(\"bases/demograficos.csv\",\n",
    "                        encoding=\"utf-8\",sep=\",\",nrows=0\n",
    "                        ,index_col=None)\n",
    "deudas =   pd.read_csv(\"bases/demograficos.csv\",\n",
    "                        encoding=\"utf-8\",sep=\",\",nrows=0\n",
    "                        ,index_col=None)\n",
    "# exp_lib.extract_csv(\"bases\",\"deudas\",',')\n",
    "id_label = pd.read_csv(\"bases/id_label.csv\",\n",
    "                        encoding=\"utf-8\",sep=\",\",nrows=0\n",
    "                        ,index_col=None)\n"
   ]
  },
  {
   "cell_type": "code",
   "execution_count": 10,
   "metadata": {},
   "outputs": [
    {
     "name": "stdout",
     "output_type": "stream",
     "text": [
      "Dimensiones: (37146, 3)\n",
      "Columnas \n",
      " n_rescates, n_aportes, id\n",
      "Dimensiones: (71664, 2)\n",
      "Columnas \n",
      " id, clasificacion_cliente\n",
      "Dimensiones: (36970, 10)\n",
      "Columnas \n",
      " id, fec_nacim, flg_empleado, gls_nacioncorta, gls_residencialarga, gls_profesionlarga, cod_sexo, gls_cod_estcivillarga, gls_niv_educaclarga, gls_sep_bieneslarga\n",
      "Dimensiones: (367543, 16)\n",
      "Columnas \n",
      " id, periodo, entidades, disponible, deuda_1, deuda_2, deuda_3, deuda_4, deuda_5, mora_1, mora_2, mora_3, mora_4, mora_5, mora_6, mora_7\n",
      "Dimensiones: (37146, 2)\n",
      "Columnas \n",
      " id, label\n"
     ]
    }
   ],
   "source": [
    "aportes_rescates_12m = exp_lib.extract_csv(\"bases\",\"aportes_rescates_12m\",',',0)\n",
    "cuenta_banco = exp_lib.extract_csv(\"bases\",\"cuenta_banco\",',')\n",
    "demograficos = exp_lib.extract_csv(\"bases\",\"demograficos\",',')\n",
    "deudas = exp_lib.extract_csv(\"bases\",\"deudas\",',')\n",
    "id_label = exp_lib.extract_csv(\"bases\",\"id_label\",',')\n"
   ]
  },
  {
   "cell_type": "code",
   "execution_count": 11,
   "metadata": {},
   "outputs": [
    {
     "name": "stdout",
     "output_type": "stream",
     "text": [
      "Dimensiones: (30674, 4)\n",
      "Columnas \n",
      " Unnamed: 0.1, patrimonio, fecha_cierre, id\n",
      "Dimensiones: (31111, 4)\n",
      "Columnas \n",
      " Unnamed: 0.1, patrimonio, fecha_cierre, id\n",
      "Dimensiones: (31425, 4)\n",
      "Columnas \n",
      " Unnamed: 0.1, patrimonio, fecha_cierre, id\n",
      "Dimensiones: (31997, 4)\n",
      "Columnas \n",
      " Unnamed: 0.1, patrimonio, fecha_cierre, id\n",
      "Dimensiones: (32423, 4)\n",
      "Columnas \n",
      " Unnamed: 0.1, patrimonio, fecha_cierre, id\n",
      "Dimensiones: (33010, 4)\n",
      "Columnas \n",
      " Unnamed: 0.1, patrimonio, fecha_cierre, id\n",
      "Dimensiones: (33994, 4)\n",
      "Columnas \n",
      " Unnamed: 0.1, patrimonio, fecha_cierre, id\n",
      "Dimensiones: (34762, 4)\n",
      "Columnas \n",
      " Unnamed: 0.1, patrimonio, fecha_cierre, id\n",
      "Dimensiones: (35420, 4)\n",
      "Columnas \n",
      " Unnamed: 0.1, patrimonio, fecha_cierre, id\n",
      "Dimensiones: (36341, 4)\n",
      "Columnas \n",
      " Unnamed: 0.1, patrimonio, fecha_cierre, id\n",
      "Dimensiones: (37027, 4)\n",
      "Columnas \n",
      " Unnamed: 0.1, patrimonio, fecha_cierre, id\n",
      "Dimensiones: (36444, 4)\n",
      "Columnas \n",
      " Unnamed: 0.1, patrimonio, fecha_cierre, id\n",
      "Dimensiones: (35956, 4)\n",
      "Columnas \n",
      " Unnamed: 0.1, patrimonio, fecha_cierre, id\n"
     ]
    }
   ],
   "source": [
    "df_list_cierre_patrimonio = [\n",
    "    exp_lib.extract_csv(\n",
    "    \"bases/cierre_patrimonio\",\n",
    "    i,\n",
    "    ',',0).drop(columns=[\"Unnamed: 0.1\"])\n",
    "    for i in list_name_file_cierre_patrimonio\n",
    "    ]\n",
    "df_cierre_patrimonio = \\\n",
    "    pd.concat(df_list_cierre_patrimonio)\n",
    "del df_list_cierre_patrimonio"
   ]
  },
  {
   "attachments": {},
   "cell_type": "markdown",
   "metadata": {},
   "source": [
    "## set columns format"
   ]
  },
  {
   "cell_type": "code",
   "execution_count": 12,
   "metadata": {},
   "outputs": [
    {
     "name": "stdout",
     "output_type": "stream",
     "text": [
      "n_rescates    float64\n",
      "n_aportes     float64\n",
      "id             object\n",
      "dtype: object\n",
      "n_rescates    float64\n",
      "n_aportes     float64\n",
      "id              int64\n",
      "dtype: object\n"
     ]
    },
    {
     "data": {
      "text/html": [
       "<div>\n",
       "<style scoped>\n",
       "    .dataframe tbody tr th:only-of-type {\n",
       "        vertical-align: middle;\n",
       "    }\n",
       "\n",
       "    .dataframe tbody tr th {\n",
       "        vertical-align: top;\n",
       "    }\n",
       "\n",
       "    .dataframe thead th {\n",
       "        text-align: right;\n",
       "    }\n",
       "</style>\n",
       "<table border=\"1\" class=\"dataframe\">\n",
       "  <thead>\n",
       "    <tr style=\"text-align: right;\">\n",
       "      <th></th>\n",
       "      <th>n_rescates</th>\n",
       "      <th>n_aportes</th>\n",
       "      <th>id</th>\n",
       "    </tr>\n",
       "  </thead>\n",
       "  <tbody>\n",
       "    <tr>\n",
       "      <th>0</th>\n",
       "      <td>0.0</td>\n",
       "      <td>0.0</td>\n",
       "      <td>0</td>\n",
       "    </tr>\n",
       "    <tr>\n",
       "      <th>1</th>\n",
       "      <td>7.0</td>\n",
       "      <td>11.0</td>\n",
       "      <td>1</td>\n",
       "    </tr>\n",
       "  </tbody>\n",
       "</table>\n",
       "</div>"
      ],
      "text/plain": [
       "   n_rescates  n_aportes  id\n",
       "0         0.0        0.0   0\n",
       "1         7.0       11.0   1"
      ]
     },
     "execution_count": 12,
     "metadata": {},
     "output_type": "execute_result"
    }
   ],
   "source": [
    "exp_lib.columns_cast(\n",
    "    aportes_rescates_12m,\n",
    "    [\"n_rescates\",\"n_aportes\"],\n",
    "    \"float64\")\n",
    "exp_lib.columns_cast(\n",
    "    aportes_rescates_12m,\n",
    "    [\"id\"],\n",
    "    \"int64\")\n",
    "aportes_rescates_12m.head(2)"
   ]
  },
  {
   "cell_type": "code",
   "execution_count": 13,
   "metadata": {},
   "outputs": [
    {
     "name": "stdout",
     "output_type": "stream",
     "text": [
      "id                        int64\n",
      "clasificacion_cliente    object\n",
      "dtype: object\n"
     ]
    },
    {
     "data": {
      "text/html": [
       "<div>\n",
       "<style scoped>\n",
       "    .dataframe tbody tr th:only-of-type {\n",
       "        vertical-align: middle;\n",
       "    }\n",
       "\n",
       "    .dataframe tbody tr th {\n",
       "        vertical-align: top;\n",
       "    }\n",
       "\n",
       "    .dataframe thead th {\n",
       "        text-align: right;\n",
       "    }\n",
       "</style>\n",
       "<table border=\"1\" class=\"dataframe\">\n",
       "  <thead>\n",
       "    <tr style=\"text-align: right;\">\n",
       "      <th></th>\n",
       "      <th>id</th>\n",
       "      <th>clasificacion_cliente</th>\n",
       "    </tr>\n",
       "  </thead>\n",
       "  <tbody>\n",
       "    <tr>\n",
       "      <th>0</th>\n",
       "      <td>37146</td>\n",
       "      <td>segmento_1</td>\n",
       "    </tr>\n",
       "    <tr>\n",
       "      <th>1</th>\n",
       "      <td>37147</td>\n",
       "      <td>segmento_1</td>\n",
       "    </tr>\n",
       "  </tbody>\n",
       "</table>\n",
       "</div>"
      ],
      "text/plain": [
       "      id clasificacion_cliente\n",
       "0  37146            segmento_1\n",
       "1  37147            segmento_1"
      ]
     },
     "execution_count": 13,
     "metadata": {},
     "output_type": "execute_result"
    }
   ],
   "source": [
    "exp_lib.columns_cast(\n",
    "    cuenta_banco,\n",
    "    [\"id\"],\n",
    "    \"int64\")\n",
    "cuenta_banco.head(2)"
   ]
  },
  {
   "cell_type": "code",
   "execution_count": 14,
   "metadata": {},
   "outputs": [
    {
     "name": "stdout",
     "output_type": "stream",
     "text": [
      "\n",
      "    Formato fecha a periodo\n",
      "    194304\n",
      "    \n",
      "id                                int64\n",
      "fec_nacim                datetime64[ns]\n",
      "flg_empleado                     object\n",
      "gls_nacioncorta                  object\n",
      "gls_residencialarga              object\n",
      "gls_profesionlarga               object\n",
      "cod_sexo                         object\n",
      "gls_cod_estcivillarga            object\n",
      "gls_niv_educaclarga              object\n",
      "gls_sep_bieneslarga              object\n",
      "dtype: object\n"
     ]
    },
    {
     "data": {
      "text/html": [
       "<div>\n",
       "<style scoped>\n",
       "    .dataframe tbody tr th:only-of-type {\n",
       "        vertical-align: middle;\n",
       "    }\n",
       "\n",
       "    .dataframe tbody tr th {\n",
       "        vertical-align: top;\n",
       "    }\n",
       "\n",
       "    .dataframe thead th {\n",
       "        text-align: right;\n",
       "    }\n",
       "</style>\n",
       "<table border=\"1\" class=\"dataframe\">\n",
       "  <thead>\n",
       "    <tr style=\"text-align: right;\">\n",
       "      <th></th>\n",
       "      <th>id</th>\n",
       "      <th>fec_nacim</th>\n",
       "      <th>flg_empleado</th>\n",
       "      <th>gls_nacioncorta</th>\n",
       "      <th>gls_residencialarga</th>\n",
       "      <th>gls_profesionlarga</th>\n",
       "      <th>cod_sexo</th>\n",
       "      <th>gls_cod_estcivillarga</th>\n",
       "      <th>gls_niv_educaclarga</th>\n",
       "      <th>gls_sep_bieneslarga</th>\n",
       "    </tr>\n",
       "  </thead>\n",
       "  <tbody>\n",
       "    <tr>\n",
       "      <th>0</th>\n",
       "      <td>10170</td>\n",
       "      <td>1943-04-23</td>\n",
       "      <td>N</td>\n",
       "      <td>Chile</td>\n",
       "      <td>Residencia Propia</td>\n",
       "      <td>PERIODISTA</td>\n",
       "      <td>F</td>\n",
       "      <td>Casado</td>\n",
       "      <td>Universitario Completo</td>\n",
       "      <td>SIN SEPARACIÓN</td>\n",
       "    </tr>\n",
       "    <tr>\n",
       "      <th>1</th>\n",
       "      <td>24533</td>\n",
       "      <td>1957-01-18</td>\n",
       "      <td>N</td>\n",
       "      <td>Chile</td>\n",
       "      <td></td>\n",
       "      <td>OTRA</td>\n",
       "      <td>F</td>\n",
       "      <td>Casado</td>\n",
       "      <td>Medio</td>\n",
       "      <td>SIN SEPARACIÓN</td>\n",
       "    </tr>\n",
       "  </tbody>\n",
       "</table>\n",
       "</div>"
      ],
      "text/plain": [
       "      id  fec_nacim flg_empleado gls_nacioncorta gls_residencialarga  \\\n",
       "0  10170 1943-04-23            N           Chile   Residencia Propia   \n",
       "1  24533 1957-01-18            N           Chile                       \n",
       "\n",
       "  gls_profesionlarga cod_sexo gls_cod_estcivillarga     gls_niv_educaclarga  \\\n",
       "0         PERIODISTA        F                Casado  Universitario Completo   \n",
       "1               OTRA        F                Casado                   Medio   \n",
       "\n",
       "  gls_sep_bieneslarga  \n",
       "0      SIN SEPARACIÓN  \n",
       "1      SIN SEPARACIÓN  "
      ]
     },
     "execution_count": 14,
     "metadata": {},
     "output_type": "execute_result"
    }
   ],
   "source": [
    "demograficos[\"fec_nacim\"]=demograficos[\"fec_nacim\"].apply(exp_lib.convert_to_date)\n",
    "print(\n",
    "    f\"\"\"\n",
    "    Formato fecha a periodo\n",
    "    {''.join(str(demograficos[\"fec_nacim\"].to_list()[0]).split('-')[:2])}\n",
    "    \"\"\"\n",
    "    )\n",
    "exp_lib.columns_cast(\n",
    "    demograficos,\n",
    "    [\"id\"],\n",
    "    \"int64\")\n",
    "demograficos.head(2)"
   ]
  },
  {
   "cell_type": "code",
   "execution_count": 15,
   "metadata": {},
   "outputs": [
    {
     "data": {
      "text/plain": [
       "Index(['id', 'periodo', 'entidades', 'disponible', 'deuda_1', 'deuda_2',\n",
       "       'deuda_3', 'deuda_4', 'deuda_5', 'mora_1', 'mora_2', 'mora_3', 'mora_4',\n",
       "       'mora_5', 'mora_6', 'mora_7'],\n",
       "      dtype='object')"
      ]
     },
     "execution_count": 15,
     "metadata": {},
     "output_type": "execute_result"
    }
   ],
   "source": [
    "deudas.columns"
   ]
  },
  {
   "cell_type": "code",
   "execution_count": 16,
   "metadata": {},
   "outputs": [
    {
     "name": "stdout",
     "output_type": "stream",
     "text": [
      "id             object\n",
      "periodo        object\n",
      "entidades      object\n",
      "disponible    float64\n",
      "deuda_1       float64\n",
      "deuda_2       float64\n",
      "deuda_3       float64\n",
      "deuda_4       float64\n",
      "deuda_5       float64\n",
      "mora_1        float64\n",
      "mora_2        float64\n",
      "mora_3        float64\n",
      "mora_4        float64\n",
      "mora_5        float64\n",
      "mora_6        float64\n",
      "mora_7        float64\n",
      "dtype: object\n",
      "id              int64\n",
      "periodo         int64\n",
      "entidades       int64\n",
      "disponible    float64\n",
      "deuda_1       float64\n",
      "deuda_2       float64\n",
      "deuda_3       float64\n",
      "deuda_4       float64\n",
      "deuda_5       float64\n",
      "mora_1        float64\n",
      "mora_2        float64\n",
      "mora_3        float64\n",
      "mora_4        float64\n",
      "mora_5        float64\n",
      "mora_6        float64\n",
      "mora_7        float64\n",
      "dtype: object\n"
     ]
    }
   ],
   "source": [
    "list_name_file_1\n",
    "# deudas\n",
    "exp_lib.columns_cast(\n",
    "    deudas,\n",
    "    ['disponible', 'deuda_1', 'deuda_2',\n",
    "       'deuda_3', 'deuda_4', 'deuda_5', 'mora_1', 'mora_2', 'mora_3', 'mora_4',\n",
    "       'mora_5', 'mora_6', 'mora_7',],\n",
    "    \"float64\")\n",
    "exp_lib.columns_cast(\n",
    "    deudas,\n",
    "    ['id', 'periodo','entidades'],\n",
    "    \"int64\")"
   ]
  },
  {
   "cell_type": "code",
   "execution_count": 17,
   "metadata": {},
   "outputs": [
    {
     "name": "stdout",
     "output_type": "stream",
     "text": [
      "id       int64\n",
      "label    int64\n",
      "dtype: object\n"
     ]
    }
   ],
   "source": [
    "# list_name_file_1\n",
    "exp_lib.columns_cast(\n",
    "    id_label,\n",
    "    ['id', 'label'],\n",
    "    \"int64\")"
   ]
  },
  {
   "cell_type": "code",
   "execution_count": 21,
   "metadata": {},
   "outputs": [
    {
     "data": {
      "text/html": [
       "<div>\n",
       "<style scoped>\n",
       "    .dataframe tbody tr th:only-of-type {\n",
       "        vertical-align: middle;\n",
       "    }\n",
       "\n",
       "    .dataframe tbody tr th {\n",
       "        vertical-align: top;\n",
       "    }\n",
       "\n",
       "    .dataframe thead th {\n",
       "        text-align: right;\n",
       "    }\n",
       "</style>\n",
       "<table border=\"1\" class=\"dataframe\">\n",
       "  <thead>\n",
       "    <tr style=\"text-align: right;\">\n",
       "      <th></th>\n",
       "      <th>patrimonio</th>\n",
       "      <th>fecha_cierre</th>\n",
       "      <th>id</th>\n",
       "    </tr>\n",
       "  </thead>\n",
       "  <tbody>\n",
       "    <tr>\n",
       "      <th>0</th>\n",
       "      <td>11.80456920962544</td>\n",
       "      <td>2022-02-28</td>\n",
       "      <td>21636</td>\n",
       "    </tr>\n",
       "    <tr>\n",
       "      <th>1</th>\n",
       "      <td>3.66808983990638</td>\n",
       "      <td>2022-02-28</td>\n",
       "      <td>707</td>\n",
       "    </tr>\n",
       "  </tbody>\n",
       "</table>\n",
       "</div>"
      ],
      "text/plain": [
       "          patrimonio fecha_cierre     id\n",
       "0  11.80456920962544   2022-02-28  21636\n",
       "1   3.66808983990638   2022-02-28    707"
      ]
     },
     "execution_count": 21,
     "metadata": {},
     "output_type": "execute_result"
    }
   ],
   "source": [
    "df_cierre_patrimonio.head(2)"
   ]
  },
  {
   "cell_type": "code",
   "execution_count": 23,
   "metadata": {},
   "outputs": [
    {
     "name": "stdout",
     "output_type": "stream",
     "text": [
      "patrimonio             float64\n",
      "fecha_cierre    datetime64[ns]\n",
      "id                      object\n",
      "dtype: object\n",
      "patrimonio             float64\n",
      "fecha_cierre    datetime64[ns]\n",
      "id                       int64\n",
      "dtype: object\n"
     ]
    },
    {
     "data": {
      "text/html": [
       "<div>\n",
       "<style scoped>\n",
       "    .dataframe tbody tr th:only-of-type {\n",
       "        vertical-align: middle;\n",
       "    }\n",
       "\n",
       "    .dataframe tbody tr th {\n",
       "        vertical-align: top;\n",
       "    }\n",
       "\n",
       "    .dataframe thead th {\n",
       "        text-align: right;\n",
       "    }\n",
       "</style>\n",
       "<table border=\"1\" class=\"dataframe\">\n",
       "  <thead>\n",
       "    <tr style=\"text-align: right;\">\n",
       "      <th></th>\n",
       "      <th>patrimonio</th>\n",
       "      <th>fecha_cierre</th>\n",
       "      <th>id</th>\n",
       "    </tr>\n",
       "  </thead>\n",
       "  <tbody>\n",
       "    <tr>\n",
       "      <th>0</th>\n",
       "      <td>11.804569</td>\n",
       "      <td>2022-02-28</td>\n",
       "      <td>21636</td>\n",
       "    </tr>\n",
       "    <tr>\n",
       "      <th>1</th>\n",
       "      <td>3.668090</td>\n",
       "      <td>2022-02-28</td>\n",
       "      <td>707</td>\n",
       "    </tr>\n",
       "  </tbody>\n",
       "</table>\n",
       "</div>"
      ],
      "text/plain": [
       "   patrimonio fecha_cierre     id\n",
       "0   11.804569   2022-02-28  21636\n",
       "1    3.668090   2022-02-28    707"
      ]
     },
     "execution_count": 23,
     "metadata": {},
     "output_type": "execute_result"
    }
   ],
   "source": [
    "df_cierre_patrimonio[\"fecha_cierre\"]=\\\n",
    "    df_cierre_patrimonio[\"fecha_cierre\"].apply(exp_lib.convert_to_date)\n",
    "exp_lib.columns_cast(\n",
    "    df_cierre_patrimonio,\n",
    "    [\"patrimonio\"],\n",
    "    \"float64\")\n",
    "exp_lib.columns_cast(\n",
    "    df_cierre_patrimonio,\n",
    "    [\"id\"],\n",
    "    \"int64\")\n",
    "df_cierre_patrimonio.head(2)"
   ]
  },
  {
   "cell_type": "code",
   "execution_count": 24,
   "metadata": {},
   "outputs": [
    {
     "data": {
      "text/plain": [
       "Timestamp('2023-02-28 00:00:00')"
      ]
     },
     "execution_count": 24,
     "metadata": {},
     "output_type": "execute_result"
    }
   ],
   "source": [
    "df_cierre_patrimonio.fecha_cierre.max()"
   ]
  }
 ],
 "metadata": {
  "kernelspec": {
   "display_name": "base",
   "language": "python",
   "name": "python3"
  },
  "language_info": {
   "codemirror_mode": {
    "name": "ipython",
    "version": 3
   },
   "file_extension": ".py",
   "mimetype": "text/x-python",
   "name": "python",
   "nbconvert_exporter": "python",
   "pygments_lexer": "ipython3",
   "version": "3.8.8"
  },
  "orig_nbformat": 4
 },
 "nbformat": 4,
 "nbformat_minor": 2
}
