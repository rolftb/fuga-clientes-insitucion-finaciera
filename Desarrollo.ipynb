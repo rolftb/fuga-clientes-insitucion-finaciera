{
 "cells": [
  {
   "attachments": {},
   "cell_type": "markdown",
   "metadata": {},
   "source": [
    "Caso Advanced Analytics: \n",
    "Predicción de Fugas de Clientes para una Institución Financiera\n",
    "======\n",
    "\n",
    "Autor: Rolf Traeger Brautigam\n",
    "========="
   ]
  },
  {
   "cell_type": "markdown",
   "metadata": {},
   "source": [
    "# Inicio\n",
    "## Import librarys"
   ]
  },
  {
   "cell_type": "code",
   "execution_count": 1,
   "metadata": {},
   "outputs": [],
   "source": [
    "# ! conda install plotnine\n",
    "# ! conda install pandas\n",
    "# ! conda install scikit-learn\n",
    "# ! conda install -c anaconda git\n"
   ]
  },
  {
   "cell_type": "code",
   "execution_count": 2,
   "metadata": {},
   "outputs": [],
   "source": [
    "import pandas as pd\n",
    "import numpy as np\n",
    "import matplotlib.pyplot as plt"
   ]
  },
  {
   "cell_type": "code",
   "execution_count": 3,
   "metadata": {},
   "outputs": [],
   "source": [
    "from plotnine import (\n",
    "ggplot,\n",
    "geom_histogram,\n",
    "aes,\n",
    "geom_col,\n",
    "theme,\n",
    "element_text,\n",
    "ggtitle,\n",
    "scale_x_discrete,\n",
    "facet_grid,\n",
    "position_dodge,\n",
    ")"
   ]
  },
  {
   "cell_type": "markdown",
   "metadata": {},
   "source": [
    "## Funciones utiles"
   ]
  },
  {
   "cell_type": "code",
   "execution_count": 4,
   "metadata": {},
   "outputs": [],
   "source": [
    "import exploratory_lib as exp_lib"
   ]
  },
  {
   "cell_type": "code",
   "execution_count": 5,
   "metadata": {},
   "outputs": [],
   "source": [
    "dic_med=exp_lib.class_diccionarios()\n",
    "dic_med.set_list_num(list(range(1,13)))\n",
    "dic_med.set_list_name(exp_lib.array_mes_name)\n",
    "dic_med.set_dictionary()"
   ]
  },
  {
   "cell_type": "code",
   "execution_count": 6,
   "metadata": {},
   "outputs": [
    {
     "data": {
      "text/plain": [
       "'Enero'"
      ]
     },
     "execution_count": 6,
     "metadata": {},
     "output_type": "execute_result"
    }
   ],
   "source": [
    "dic_med.int_to_name(1)"
   ]
  },
  {
   "cell_type": "code",
   "execution_count": 7,
   "metadata": {},
   "outputs": [
    {
     "data": {
      "text/plain": [
       "1"
      ]
     },
     "execution_count": 7,
     "metadata": {},
     "output_type": "execute_result"
    }
   ],
   "source": [
    "dic_dianom=exp_lib.class_diccionarios()\n",
    "dic_dianom.set_list_num(list(range(1,8)))\n",
    "dic_dianom.set_list_name(['Lunes', 'Martes', 'Miercoles','Jueves','Viernes', 'Sabado', 'Domingo'])\n",
    "dic_dianom.set_dictionary()\n",
    "dic_dianom.name_to_num(\"LuneS\")"
   ]
  },
  {
   "cell_type": "markdown",
   "metadata": {},
   "source": [
    "## Extract CSV y transform using owns librarys"
   ]
  },
  {
   "cell_type": "code",
   "execution_count": 8,
   "metadata": {},
   "outputs": [],
   "source": [
    "list_name_file_1 = [\n",
    "    'aportes_rescates_12m',      #.csv\n",
    "    'cuenta_banco',      #.csv\n",
    "    'demograficos',      #.csv\n",
    "    'deudas',        #.csv\n",
    "    'id_label',      #.csv\n",
    "    ]\n",
    "list_name_file_cierre_patrimonio=[\n",
    "'cierre_patrimonio_202202',        #.csv\n",
    "'cierre_patrimonio_202203',        #.csv\n",
    "'cierre_patrimonio_202204',        #.csv\n",
    "'cierre_patrimonio_202205',        #.csv\n",
    "'cierre_patrimonio_202206',        #.csv\n",
    "'cierre_patrimonio_202207',        #.csv\n",
    "'cierre_patrimonio_202208',        #.csv\n",
    "'cierre_patrimonio_202209',        #.csv\n",
    "'cierre_patrimonio_202210',        #.csv\n",
    "'cierre_patrimonio_202211',        #.csv\n",
    "'cierre_patrimonio_202212',        #.csv\n",
    "'cierre_patrimonio_202301',        #.csv\n",
    "'cierre_patrimonio_202302',        #.csv\n",
    "]"
   ]
  },
  {
   "cell_type": "code",
   "execution_count": 9,
   "metadata": {},
   "outputs": [
    {
     "name": "stdout",
     "output_type": "stream",
     "text": [
      "Dimensiones: (37146, 4)\n",
      "Columnas \n",
      " Unnamed: 0, n_rescates, n_aportes, id\n",
      "Dimensiones: (71664, 2)\n",
      "Columnas \n",
      " id, clasificacion_cliente\n",
      "Dimensiones: (36970, 10)\n",
      "Columnas \n",
      " id, fec_nacim, flg_empleado, gls_nacioncorta, gls_residencialarga, gls_profesionlarga, cod_sexo, gls_cod_estcivillarga, gls_niv_educaclarga, gls_sep_bieneslarga\n",
      "Dimensiones: (367543, 16)\n",
      "Columnas \n",
      " id, periodo, entidades, disponible, deuda_1, deuda_2, deuda_3, deuda_4, deuda_5, mora_1, mora_2, mora_3, mora_4, mora_5, mora_6, mora_7\n",
      "Dimensiones: (37146, 2)\n",
      "Columnas \n",
      " id, label\n"
     ]
    }
   ],
   "source": [
    "aportes_rescates_12m = exp_lib.extract_csv(\"bases\",\"aportes_rescates_12m\",',')\n",
    "cuenta_banco = exp_lib.extract_csv(\"bases\",\"cuenta_banco\",',')\n",
    "demograficos = exp_lib.extract_csv(\"bases\",\"demograficos\",',')\n",
    "deudas = exp_lib.extract_csv(\"bases\",\"deudas\",',')\n",
    "id_label = exp_lib.extract_csv(\"bases\",\"id_label\",',')\n"
   ]
  },
  {
   "cell_type": "code",
   "execution_count": 16,
   "metadata": {},
   "outputs": [
    {
     "data": {
      "text/plain": [
       "Index(['Unnamed: 0', 'n_rescates', 'n_aportes', 'id'], dtype='object')"
      ]
     },
     "execution_count": 16,
     "metadata": {},
     "output_type": "execute_result"
    }
   ],
   "source": [
    "pd.read_csv(f\"bases/aportes_rescates_12m.csv\",\n",
    "                        encoding=\"utf-8\",\n",
    "                        sep=\",\",\n",
    "                        nrows=0,\n",
    "                        index_col=None\n",
    "                        ).columns"
   ]
  },
  {
   "cell_type": "code",
   "execution_count": 11,
   "metadata": {},
   "outputs": [
    {
     "data": {
      "text/plain": [
       "'cierre_patrimonio_202202'"
      ]
     },
     "execution_count": 11,
     "metadata": {},
     "output_type": "execute_result"
    }
   ],
   "source": [
    "# df_cierre_patrimonio=[0,1]\n",
    "df_cierre_patrimonio=[\n",
    "    exp_lib.extract_csv(\n",
    "    \"bases\",list_name_file_cierre_patrimonio[0],',')\n",
    "    ]"
   ]
  }
 ],
 "metadata": {
  "kernelspec": {
   "display_name": "base",
   "language": "python",
   "name": "python3"
  },
  "language_info": {
   "codemirror_mode": {
    "name": "ipython",
    "version": 3
   },
   "file_extension": ".py",
   "mimetype": "text/x-python",
   "name": "python",
   "nbconvert_exporter": "python",
   "pygments_lexer": "ipython3",
   "version": "3.8.8"
  },
  "orig_nbformat": 4
 },
 "nbformat": 4,
 "nbformat_minor": 2
}
